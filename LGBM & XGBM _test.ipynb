{
 "cells": [
  {
   "cell_type": "code",
   "execution_count": 4,
   "id": "e30831b1-004a-4164-882e-d2fa7e670011",
   "metadata": {},
   "outputs": [
    {
     "data": {
      "text/html": [
       "<div>\n",
       "<style scoped>\n",
       "    .dataframe tbody tr th:only-of-type {\n",
       "        vertical-align: middle;\n",
       "    }\n",
       "\n",
       "    .dataframe tbody tr th {\n",
       "        vertical-align: top;\n",
       "    }\n",
       "\n",
       "    .dataframe thead th {\n",
       "        text-align: right;\n",
       "    }\n",
       "</style>\n",
       "<table border=\"1\" class=\"dataframe\">\n",
       "  <thead>\n",
       "    <tr style=\"text-align: right;\">\n",
       "      <th></th>\n",
       "      <th>PassengerId</th>\n",
       "      <th>Pclass</th>\n",
       "      <th>Name</th>\n",
       "      <th>Sex</th>\n",
       "      <th>Age</th>\n",
       "      <th>SibSp</th>\n",
       "      <th>Parch</th>\n",
       "      <th>Ticket</th>\n",
       "      <th>Fare</th>\n",
       "      <th>Cabin</th>\n",
       "      <th>Embarked</th>\n",
       "    </tr>\n",
       "  </thead>\n",
       "  <tbody>\n",
       "    <tr>\n",
       "      <th>0</th>\n",
       "      <td>892</td>\n",
       "      <td>3</td>\n",
       "      <td>Kelly, Mr. James</td>\n",
       "      <td>male</td>\n",
       "      <td>34.5</td>\n",
       "      <td>0</td>\n",
       "      <td>0</td>\n",
       "      <td>330911</td>\n",
       "      <td>7.8292</td>\n",
       "      <td>NaN</td>\n",
       "      <td>Q</td>\n",
       "    </tr>\n",
       "    <tr>\n",
       "      <th>1</th>\n",
       "      <td>893</td>\n",
       "      <td>3</td>\n",
       "      <td>Wilkes, Mrs. James (Ellen Needs)</td>\n",
       "      <td>female</td>\n",
       "      <td>47.0</td>\n",
       "      <td>1</td>\n",
       "      <td>0</td>\n",
       "      <td>363272</td>\n",
       "      <td>7.0000</td>\n",
       "      <td>NaN</td>\n",
       "      <td>S</td>\n",
       "    </tr>\n",
       "    <tr>\n",
       "      <th>2</th>\n",
       "      <td>894</td>\n",
       "      <td>2</td>\n",
       "      <td>Myles, Mr. Thomas Francis</td>\n",
       "      <td>male</td>\n",
       "      <td>62.0</td>\n",
       "      <td>0</td>\n",
       "      <td>0</td>\n",
       "      <td>240276</td>\n",
       "      <td>9.6875</td>\n",
       "      <td>NaN</td>\n",
       "      <td>Q</td>\n",
       "    </tr>\n",
       "    <tr>\n",
       "      <th>3</th>\n",
       "      <td>895</td>\n",
       "      <td>3</td>\n",
       "      <td>Wirz, Mr. Albert</td>\n",
       "      <td>male</td>\n",
       "      <td>27.0</td>\n",
       "      <td>0</td>\n",
       "      <td>0</td>\n",
       "      <td>315154</td>\n",
       "      <td>8.6625</td>\n",
       "      <td>NaN</td>\n",
       "      <td>S</td>\n",
       "    </tr>\n",
       "    <tr>\n",
       "      <th>4</th>\n",
       "      <td>896</td>\n",
       "      <td>3</td>\n",
       "      <td>Hirvonen, Mrs. Alexander (Helga E Lindqvist)</td>\n",
       "      <td>female</td>\n",
       "      <td>22.0</td>\n",
       "      <td>1</td>\n",
       "      <td>1</td>\n",
       "      <td>3101298</td>\n",
       "      <td>12.2875</td>\n",
       "      <td>NaN</td>\n",
       "      <td>S</td>\n",
       "    </tr>\n",
       "    <tr>\n",
       "      <th>...</th>\n",
       "      <td>...</td>\n",
       "      <td>...</td>\n",
       "      <td>...</td>\n",
       "      <td>...</td>\n",
       "      <td>...</td>\n",
       "      <td>...</td>\n",
       "      <td>...</td>\n",
       "      <td>...</td>\n",
       "      <td>...</td>\n",
       "      <td>...</td>\n",
       "      <td>...</td>\n",
       "    </tr>\n",
       "    <tr>\n",
       "      <th>413</th>\n",
       "      <td>1305</td>\n",
       "      <td>3</td>\n",
       "      <td>Spector, Mr. Woolf</td>\n",
       "      <td>male</td>\n",
       "      <td>NaN</td>\n",
       "      <td>0</td>\n",
       "      <td>0</td>\n",
       "      <td>A.5. 3236</td>\n",
       "      <td>8.0500</td>\n",
       "      <td>NaN</td>\n",
       "      <td>S</td>\n",
       "    </tr>\n",
       "    <tr>\n",
       "      <th>414</th>\n",
       "      <td>1306</td>\n",
       "      <td>1</td>\n",
       "      <td>Oliva y Ocana, Dona. Fermina</td>\n",
       "      <td>female</td>\n",
       "      <td>39.0</td>\n",
       "      <td>0</td>\n",
       "      <td>0</td>\n",
       "      <td>PC 17758</td>\n",
       "      <td>108.9000</td>\n",
       "      <td>C105</td>\n",
       "      <td>C</td>\n",
       "    </tr>\n",
       "    <tr>\n",
       "      <th>415</th>\n",
       "      <td>1307</td>\n",
       "      <td>3</td>\n",
       "      <td>Saether, Mr. Simon Sivertsen</td>\n",
       "      <td>male</td>\n",
       "      <td>38.5</td>\n",
       "      <td>0</td>\n",
       "      <td>0</td>\n",
       "      <td>SOTON/O.Q. 3101262</td>\n",
       "      <td>7.2500</td>\n",
       "      <td>NaN</td>\n",
       "      <td>S</td>\n",
       "    </tr>\n",
       "    <tr>\n",
       "      <th>416</th>\n",
       "      <td>1308</td>\n",
       "      <td>3</td>\n",
       "      <td>Ware, Mr. Frederick</td>\n",
       "      <td>male</td>\n",
       "      <td>NaN</td>\n",
       "      <td>0</td>\n",
       "      <td>0</td>\n",
       "      <td>359309</td>\n",
       "      <td>8.0500</td>\n",
       "      <td>NaN</td>\n",
       "      <td>S</td>\n",
       "    </tr>\n",
       "    <tr>\n",
       "      <th>417</th>\n",
       "      <td>1309</td>\n",
       "      <td>3</td>\n",
       "      <td>Peter, Master. Michael J</td>\n",
       "      <td>male</td>\n",
       "      <td>NaN</td>\n",
       "      <td>1</td>\n",
       "      <td>1</td>\n",
       "      <td>2668</td>\n",
       "      <td>22.3583</td>\n",
       "      <td>NaN</td>\n",
       "      <td>C</td>\n",
       "    </tr>\n",
       "  </tbody>\n",
       "</table>\n",
       "<p>418 rows × 11 columns</p>\n",
       "</div>"
      ],
      "text/plain": [
       "     PassengerId  Pclass                                          Name  \\\n",
       "0            892       3                              Kelly, Mr. James   \n",
       "1            893       3              Wilkes, Mrs. James (Ellen Needs)   \n",
       "2            894       2                     Myles, Mr. Thomas Francis   \n",
       "3            895       3                              Wirz, Mr. Albert   \n",
       "4            896       3  Hirvonen, Mrs. Alexander (Helga E Lindqvist)   \n",
       "..           ...     ...                                           ...   \n",
       "413         1305       3                            Spector, Mr. Woolf   \n",
       "414         1306       1                  Oliva y Ocana, Dona. Fermina   \n",
       "415         1307       3                  Saether, Mr. Simon Sivertsen   \n",
       "416         1308       3                           Ware, Mr. Frederick   \n",
       "417         1309       3                      Peter, Master. Michael J   \n",
       "\n",
       "        Sex   Age  SibSp  Parch              Ticket      Fare Cabin Embarked  \n",
       "0      male  34.5      0      0              330911    7.8292   NaN        Q  \n",
       "1    female  47.0      1      0              363272    7.0000   NaN        S  \n",
       "2      male  62.0      0      0              240276    9.6875   NaN        Q  \n",
       "3      male  27.0      0      0              315154    8.6625   NaN        S  \n",
       "4    female  22.0      1      1             3101298   12.2875   NaN        S  \n",
       "..      ...   ...    ...    ...                 ...       ...   ...      ...  \n",
       "413    male   NaN      0      0           A.5. 3236    8.0500   NaN        S  \n",
       "414  female  39.0      0      0            PC 17758  108.9000  C105        C  \n",
       "415    male  38.5      0      0  SOTON/O.Q. 3101262    7.2500   NaN        S  \n",
       "416    male   NaN      0      0              359309    8.0500   NaN        S  \n",
       "417    male   NaN      1      1                2668   22.3583   NaN        C  \n",
       "\n",
       "[418 rows x 11 columns]"
      ]
     },
     "execution_count": 4,
     "metadata": {},
     "output_type": "execute_result"
    }
   ],
   "source": [
    "import pandas as pd\n",
    "import numpy as np\n",
    "\n",
    "df = pd.read_csv('Titanic_test.csv')\n",
    "df\n"
   ]
  },
  {
   "cell_type": "code",
   "execution_count": 8,
   "id": "1403f25c-f9a7-45d2-8f71-cf90f9f79c71",
   "metadata": {},
   "outputs": [
    {
     "data": {
      "image/png": "[encoded data removed]",
      "text/plain": [
       "<Figure size 1500x1000 with 6 Axes>"
      ]
     },
     "metadata": {},
     "output_type": "display_data"
    },
    {
     "data": {
      "image/png": "[encoded data removed]",
      "text/plain": [
       "<Figure size 800x600 with 1 Axes>"
      ]
     },
     "metadata": {},
     "output_type": "display_data"
    }
   ],
   "source": [
    "#EDA\n",
    "\n",
    "import matplotlib.pyplot as plt\n",
    "# Plot histograms of numerical features\n",
    "df.hist(bins=20, figsize=(15, 10))\n",
    "plt.show()\n",
    "\n",
    "# Plot box plots to see distribution and outliers\n",
    "df[['Age', 'Fare']].boxplot(figsize=(8,6))\n",
    "plt.show()"
   ]
  },
  {
   "cell_type": "code",
   "execution_count": 10,
   "id": "7459378e-c6c3-4e18-a44f-0dcf3e5bdf01",
   "metadata": {},
   "outputs": [
    {
     "data": {
      "image/png": "[encoded data removed]",
      "text/plain": [
       "<Figure size 640x480 with 1 Axes>"
      ]
     },
     "metadata": {},
     "output_type": "display_data"
    },
    {
     "data": {
      "image/png": "[encoded data removed]",
      "text/plain": [
       "<Figure size 640x480 with 1 Axes>"
      ]
     },
     "metadata": {},
     "output_type": "display_data"
    }
   ],
   "source": [
    "# Bar plot of survival rate by Sex\n",
    "import seaborn as sns\n",
    "sns.barplot(x='Sex', y='Pclass', data=df)\n",
    "plt.title('Sex occuiped by Pclass')\n",
    "plt.show()\n",
    "\n",
    "# Scatter plot for Age vs Fare and color by Survival\n",
    "sns.scatterplot(x='Age', y='Fare', hue='Pclass', data=df)\n",
    "plt.title('Scatter plot of Age vs Fare colored by Pclass')\n",
    "plt.show()\n"
   ]
  },
  {
   "cell_type": "code",
   "execution_count": 16,
   "id": "cf250292-19f3-44de-8592-45656dea093f",
   "metadata": {},
   "outputs": [
    {
     "data": {
      "text/html": [
       "<div>\n",
       "<style scoped>\n",
       "    .dataframe tbody tr th:only-of-type {\n",
       "        vertical-align: middle;\n",
       "    }\n",
       "\n",
       "    .dataframe tbody tr th {\n",
       "        vertical-align: top;\n",
       "    }\n",
       "\n",
       "    .dataframe thead th {\n",
       "        text-align: right;\n",
       "    }\n",
       "</style>\n",
       "<table border=\"1\" class=\"dataframe\">\n",
       "  <thead>\n",
       "    <tr style=\"text-align: right;\">\n",
       "      <th></th>\n",
       "      <th>PassengerId</th>\n",
       "      <th>Pclass</th>\n",
       "      <th>Age</th>\n",
       "      <th>SibSp</th>\n",
       "      <th>Parch</th>\n",
       "      <th>Fare</th>\n",
       "    </tr>\n",
       "  </thead>\n",
       "  <tbody>\n",
       "    <tr>\n",
       "      <th>count</th>\n",
       "      <td>418.000000</td>\n",
       "      <td>418.000000</td>\n",
       "      <td>332.000000</td>\n",
       "      <td>418.000000</td>\n",
       "      <td>418.000000</td>\n",
       "      <td>417.000000</td>\n",
       "    </tr>\n",
       "    <tr>\n",
       "      <th>mean</th>\n",
       "      <td>1100.500000</td>\n",
       "      <td>2.265550</td>\n",
       "      <td>30.272590</td>\n",
       "      <td>0.447368</td>\n",
       "      <td>0.392344</td>\n",
       "      <td>35.627188</td>\n",
       "    </tr>\n",
       "    <tr>\n",
       "      <th>std</th>\n",
       "      <td>120.810458</td>\n",
       "      <td>0.841838</td>\n",
       "      <td>14.181209</td>\n",
       "      <td>0.896760</td>\n",
       "      <td>0.981429</td>\n",
       "      <td>55.907576</td>\n",
       "    </tr>\n",
       "    <tr>\n",
       "      <th>min</th>\n",
       "      <td>892.000000</td>\n",
       "      <td>1.000000</td>\n",
       "      <td>0.170000</td>\n",
       "      <td>0.000000</td>\n",
       "      <td>0.000000</td>\n",
       "      <td>0.000000</td>\n",
       "    </tr>\n",
       "    <tr>\n",
       "      <th>25%</th>\n",
       "      <td>996.250000</td>\n",
       "      <td>1.000000</td>\n",
       "      <td>21.000000</td>\n",
       "      <td>0.000000</td>\n",
       "      <td>0.000000</td>\n",
       "      <td>7.895800</td>\n",
       "    </tr>\n",
       "    <tr>\n",
       "      <th>50%</th>\n",
       "      <td>1100.500000</td>\n",
       "      <td>3.000000</td>\n",
       "      <td>27.000000</td>\n",
       "      <td>0.000000</td>\n",
       "      <td>0.000000</td>\n",
       "      <td>14.454200</td>\n",
       "    </tr>\n",
       "    <tr>\n",
       "      <th>75%</th>\n",
       "      <td>1204.750000</td>\n",
       "      <td>3.000000</td>\n",
       "      <td>39.000000</td>\n",
       "      <td>1.000000</td>\n",
       "      <td>0.000000</td>\n",
       "      <td>31.500000</td>\n",
       "    </tr>\n",
       "    <tr>\n",
       "      <th>max</th>\n",
       "      <td>1309.000000</td>\n",
       "      <td>3.000000</td>\n",
       "      <td>76.000000</td>\n",
       "      <td>8.000000</td>\n",
       "      <td>9.000000</td>\n",
       "      <td>512.329200</td>\n",
       "    </tr>\n",
       "  </tbody>\n",
       "</table>\n",
       "</div>"
      ],
      "text/plain": [
       "       PassengerId      Pclass         Age       SibSp       Parch        Fare\n",
       "count   418.000000  418.000000  332.000000  418.000000  418.000000  417.000000\n",
       "mean   1100.500000    2.265550   30.272590    0.447368    0.392344   35.627188\n",
       "std     120.810458    0.841838   14.181209    0.896760    0.981429   55.907576\n",
       "min     892.000000    1.000000    0.170000    0.000000    0.000000    0.000000\n",
       "25%     996.250000    1.000000   21.000000    0.000000    0.000000    7.895800\n",
       "50%    1100.500000    3.000000   27.000000    0.000000    0.000000   14.454200\n",
       "75%    1204.750000    3.000000   39.000000    1.000000    0.000000   31.500000\n",
       "max    1309.000000    3.000000   76.000000    8.000000    9.000000  512.329200"
      ]
     },
     "execution_count": 16,
     "metadata": {},
     "output_type": "execute_result"
    }
   ],
   "source": [
    "df.describe()"
   ]
  },
  {
   "cell_type": "code",
   "execution_count": 19,
   "id": "cfb3a3ad-0cde-409b-9b4f-d04bd51a5461",
   "metadata": {},
   "outputs": [
    {
     "name": "stdout",
     "output_type": "stream",
     "text": [
      "<class 'pandas.core.frame.DataFrame'>\n",
      "RangeIndex: 418 entries, 0 to 417\n",
      "Data columns (total 11 columns):\n",
      " #   Column       Non-Null Count  Dtype  \n",
      "---  ------       --------------  -----  \n",
      " 0   PassengerId  418 non-null    int64  \n",
      " 1   Pclass       418 non-null    int64  \n",
      " 2   Name         418 non-null    object \n",
      " 3   Sex          418 non-null    object \n",
      " 4   Age          332 non-null    float64\n",
      " 5   SibSp        418 non-null    int64  \n",
      " 6   Parch        418 non-null    int64  \n",
      " 7   Ticket       418 non-null    object \n",
      " 8   Fare         417 non-null    float64\n",
      " 9   Cabin        91 non-null     object \n",
      " 10  Embarked     418 non-null    object \n",
      "dtypes: float64(2), int64(4), object(5)\n",
      "memory usage: 36.1+ KB\n"
     ]
    }
   ],
   "source": [
    "df.info()"
   ]
  },
  {
   "cell_type": "code",
   "execution_count": 22,
   "id": "5f6e6794-9e00-4769-8f5a-c666db164ffb",
   "metadata": {},
   "outputs": [
    {
     "data": {
      "text/plain": [
       "PassengerId      0\n",
       "Pclass           0\n",
       "Name             0\n",
       "Sex              0\n",
       "Age             86\n",
       "SibSp            0\n",
       "Parch            0\n",
       "Ticket           0\n",
       "Fare             1\n",
       "Cabin          327\n",
       "Embarked         0\n",
       "dtype: int64"
      ]
     },
     "execution_count": 22,
     "metadata": {},
     "output_type": "execute_result"
    }
   ],
   "source": [
    "#Data Processing\n",
    "#missing Values\n",
    "\n",
    "df.isnull().sum()"
   ]
  },
  {
   "cell_type": "code",
   "execution_count": 32,
   "id": "54e9e86e-600d-4faf-9446-837d648ac2e4",
   "metadata": {},
   "outputs": [],
   "source": [
    "from sklearn.impute import SimpleImputer\n",
    "\n",
    "# Impute missing 'Age' with the median value\n",
    "imputer = SimpleImputer(strategy='median')\n",
    "df['Age'] = imputer.fit_transform(df[['Age']])\n",
    "\n",
    "# Impute missing 'Embarked' with the most frequent value\n",
    "df['Fare'] = df['Fare'].fillna(df['Fare'].mode()[0])\n",
    "\n",
    "df.drop(columns=['Cabin'], inplace=True)\n",
    "\n"
   ]
  },
  {
   "cell_type": "code",
   "execution_count": 34,
   "id": "6595fb80-cf42-487a-b495-b87b8f115413",
   "metadata": {},
   "outputs": [
    {
     "data": {
      "text/plain": [
       "PassengerId    0\n",
       "Pclass         0\n",
       "Name           0\n",
       "Sex            0\n",
       "Age            0\n",
       "SibSp          0\n",
       "Parch          0\n",
       "Ticket         0\n",
       "Fare           0\n",
       "Embarked       0\n",
       "dtype: int64"
      ]
     },
     "execution_count": 34,
     "metadata": {},
     "output_type": "execute_result"
    }
   ],
   "source": [
    "df.isnull().sum()"
   ]
  },
  {
   "cell_type": "code",
   "execution_count": 37,
   "id": "0be2198a-7ce8-4938-a1cf-733bb0b79f04",
   "metadata": {},
   "outputs": [
    {
     "name": "stdout",
     "output_type": "stream",
     "text": [
      "Index(['PassengerId', 'Pclass', 'Name', 'Sex', 'Age', 'SibSp', 'Parch',\n",
      "       'Ticket', 'Fare', 'Embarked'],\n",
      "      dtype='object')\n"
     ]
    }
   ],
   "source": [
    "print(df.columns)\n"
   ]
  },
  {
   "cell_type": "code",
   "execution_count": 41,
   "id": "cce28ed2-45f6-4d37-a1b5-3188221e6f67",
   "metadata": {},
   "outputs": [],
   "source": [
    "# One-hot encode categorical features like 'Sex' and 'Embarked'\n",
    "df = pd.get_dummies(df, columns=['Sex', 'Embarked' ], drop_first=True)\n",
    "\n",
    "# Drop irrelevant columns for modeling\n",
    "df.drop(columns=['PassengerId', 'Name', 'Ticket'], inplace=True)"
   ]
  },
  {
   "cell_type": "code",
   "execution_count": 87,
   "id": "954b9430-c890-44ab-9ace-43b5899d5419",
   "metadata": {},
   "outputs": [
    {
     "name": "stdout",
     "output_type": "stream",
     "text": [
      "              precision    recall  f1-score   support\n",
      "\n",
      "           0       0.59      0.70      0.64        89\n",
      "           1       0.29      0.20      0.24        54\n",
      "\n",
      "    accuracy                           0.51       143\n",
      "   macro avg       0.44      0.45      0.44       143\n",
      "weighted avg       0.48      0.51      0.49       143\n",
      "\n"
     ]
    }
   ],
   "source": [
    "#LGBM classification and hyperparameter  Tuning\n",
    "import lightgbm as lgb\n",
    "import numpy as np\n",
    "from sklearn.model_selection import train_test_split\n",
    "from sklearn.metrics import classification_report\n",
    "\n",
    "# Sample data: Replace this with your actual dataset\n",
    "# X: feature matrix, y: target variable (0 for negative class, 1 for positive class)\n",
    "X = np.random.rand(712, 8)  # 712 samples, 8 features\n",
    "y = np.array([0] * 444 + [1] * 268)  # 444 negative, 268 positive\n",
    "\n",
    "# Split data into training and validation sets\n",
    "X_test, X_valid, y_test, y_valid = train_test_split(X, y, test_size=0.2, random_state=42, stratify=y)\n",
    "\n",
    "\n",
    "# Create LightGBM datasets\n",
    "train_data = lgb.Dataset(X_train, label=y_train)\n",
    "valid_data = lgb.Dataset(X_valid, label=y_valid, reference=train_data)\n",
    "\n",
    "# Set the parameters for the model\n",
    "params = {\n",
    "    'boosting_type': 'gbdt',  # Use GBDT boosting\n",
    "    'objective': 'binary',\n",
    "    'metric': 'binary_logloss',\n",
    "    'num_leaves': 31,  # Adjust this based on your data\n",
    "    'learning_rate': 0.05,\n",
    "    'min_data_in_leaf': 10,  # Reduce this to allow more splits\n",
    "    'scale_pos_weight': len(y_train) / (2 * np.sum(y_train)),  # Adjust for class imbalance\n",
    "    'max_depth': -1,  # No limit on depth\n",
    "    'verbose': -1,  # Suppress detailed output\n",
    "}\n",
    "\n",
    "# Train the model with early stopping\n",
    "model = lgb.train(params, train_data, valid_sets=[valid_data], num_boost_round=100)\n",
    "\n",
    "# Predict on validation set\n",
    "y_pred = model.predict(X_valid)\n",
    "y_pred_binary = np.where(y_pred >= 0.5, 1, 0)  # Convert probabilities to binary outcomes\n",
    "\n",
    "# Print classification report\n",
    "print(classification_report(y_valid, y_pred_binary))"
   ]
  },
  {
   "cell_type": "code",
   "execution_count": 89,
   "id": "1a199fc3-93ce-45fd-be1b-4f0a8a59cd7d",
   "metadata": {},
   "outputs": [
    {
     "name": "stdout",
     "output_type": "stream",
     "text": [
      "Training class distribution: Counter({0: 355, 1: 214})\n",
      "Validation class distribution: Counter({0: 89, 1: 54})\n"
     ]
    }
   ],
   "source": [
    "import numpy as np\n",
    "from collections import Counter\n",
    "\n",
    "# Check the distribution of the target variable\n",
    "print(\"Training class distribution:\", Counter(y_train))\n",
    "print(\"Validation class distribution:\", Counter(y_valid))"
   ]
  },
  {
   "cell_type": "code",
   "execution_count": 100,
   "id": "4cd8be24-2c33-4b5b-a2ed-db0a17d7b973",
   "metadata": {},
   "outputs": [
    {
     "name": "stdout",
     "output_type": "stream",
     "text": [
      "Training class distribution: Counter({0: 355, 1: 214})\n",
      "Validation class distribution: Counter({0: 89, 1: 54})\n",
      "Scale positive weight: 1.3294392523364487\n",
      "[0]\ttrain-logloss:0.66284\teval-logloss:0.67252\n",
      "[1]\ttrain-logloss:0.65489\teval-logloss:0.67303\n",
      "[2]\ttrain-logloss:0.64390\teval-logloss:0.67172\n",
      "[3]\ttrain-logloss:0.63463\teval-logloss:0.67206\n",
      "[4]\ttrain-logloss:0.62466\teval-logloss:0.67163\n",
      "[5]\ttrain-logloss:0.61970\teval-logloss:0.67355\n",
      "[6]\ttrain-logloss:0.61259\teval-logloss:0.67639\n",
      "[7]\ttrain-logloss:0.60719\teval-logloss:0.67590\n",
      "[8]\ttrain-logloss:0.60034\teval-logloss:0.67706\n",
      "[9]\ttrain-logloss:0.59417\teval-logloss:0.67665\n",
      "[10]\ttrain-logloss:0.58679\teval-logloss:0.67749\n",
      "[11]\ttrain-logloss:0.57824\teval-logloss:0.67781\n",
      "[12]\ttrain-logloss:0.56942\teval-logloss:0.67611\n",
      "[13]\ttrain-logloss:0.56217\teval-logloss:0.67407\n",
      "              precision    recall  f1-score   support\n",
      "\n",
      "           0       0.71      0.19      0.30        89\n",
      "           1       0.39      0.87      0.54        54\n",
      "\n",
      "    accuracy                           0.45       143\n",
      "   macro avg       0.55      0.53      0.42       143\n",
      "weighted avg       0.59      0.45      0.39       143\n",
      "\n"
     ]
    }
   ],
   "source": [
    "import xgboost as xgb\n",
    "import numpy as np\n",
    "from sklearn.model_selection import train_test_split\n",
    "from sklearn.metrics import classification_report\n",
    "from collections import Counter\n",
    "\n",
    "# Sample data: Replace this with your actual dataset\n",
    "X = np.random.rand(712, 8)  # 712 samples, 8 features\n",
    "y = np.array([0] * 444 + [1] * 268)  # 444 negative, 268 positive\n",
    "\n",
    "# Split data into training and validation sets using stratified sampling\n",
    "X_test, X_valid, y_test, y_valid = train_test_split(X, y, test_size=0.2, random_state=42, stratify=y)\n",
    "\n",
    "# Print class distribution\n",
    "print(\"Training class distribution:\", Counter(y_test))\n",
    "print(\"Validation class distribution:\", Counter(y_valid))\n",
    "\n",
    "# Create DMatrix for XGBoost\n",
    "dtrain = xgb.DMatrix(X_test, label=y_train)\n",
    "dvalid = xgb.DMatrix(X_valid, label=y_valid)\n",
    "\n",
    "# Calculate scale_pos_weight\n",
    "scale_pos_weight = len(y_test) / (2 * np.sum(y_test))\n",
    "print(\"Scale positive weight:\", scale_pos_weight)\n",
    "\n",
    "# Set the parameters for the model\n",
    "params = {\n",
    "    'objective': 'binary:logistic',  # Binary classification\n",
    "    'eval_metric': 'logloss',  # Evaluation metric\n",
    "    'max_depth': 6,  # Adjust based on your data\n",
    "    'learning_rate': 0.05,\n",
    "    'subsample': 0.8,  # Randomly sample training data\n",
    "    'colsample_bytree': 0.8,  # Randomly sample features\n",
    "    'scale_pos_weight': scale_pos_weight,  # Adjust for class imbalance\n",
    "    'verbosity': 0,  # Suppress detailed output\n",
    "}\n",
    "\n",
    "# Train the model with early stopping\n",
    "watchlist = [(dtrain, 'train'), (dvalid, 'eval')]  # Track training and validation metrics\n",
    "model = xgb.train(params, dtrain, num_boost_round=100, evals=watchlist, early_stopping_rounds=10)\n",
    "\n",
    "# Predict on validation set\n",
    "y_pred_xgb = model.predict(dvalid)\n",
    "\n",
    "# Adjust the threshold for binary classification\n",
    "threshold = 0.3  # Change this value as needed\n",
    "y_pred_binary = np.where(y_pred >= threshold, 1, 0)  # Convert probabilities to binary outcomes\n",
    "\n",
    "# Print classification report with zero_division handling\n",
    "print(classification_report(y_valid, y_pred_binary, zero_division=0))"
   ]
  },
  {
   "cell_type": "code",
   "execution_count": 102,
   "id": "fefb19ff-31b5-41a9-a40a-80b462d961f1",
   "metadata": {},
   "outputs": [
    {
     "name": "stdout",
     "output_type": "stream",
     "text": [
      "Length of y_test: 569\n",
      "Length of y_pred_lgbm: 143\n",
      "Length of y_pred_xgb: 143\n"
     ]
    }
   ],
   "source": [
    "print(f\"Length of y_test: {len(y_test)}\")\n",
    "print(f\"Length of y_pred_lgbm: {len(y_pred_lgbm)}\")\n",
    "print(f\"Length of y_pred_xgb: {len(y_pred_xgb)}\")\n"
   ]
  },
  {
   "cell_type": "code",
   "execution_count": 118,
   "id": "8ce60a34-78d8-4e9c-8348-52dfc476a668",
   "metadata": {},
   "outputs": [],
   "source": [
    "import lightgbm as lgb\n",
    "from sklearn.metrics import accuracy_score, precision_score, recall_score, f1_score\n",
    "\n",
    "# Initialize the LightGBM model (configure parameters as necessary)\n",
    "model_lgbm = lgb.LGBMClassifier()  # You can specify parameters here if needed\n",
    "model_xgb = xgb.XGBClassifier()\n",
    "# Train the LightGBM model\n",
    "model_lgbm.fit(X_test, y_test)\n",
    "model_xgb.fit(X_test, y_test)\n",
    "# Generate predictions using the trained model\n",
    "y_pred_lgbm = model_lgbm.predict(X_test)\n"
   ]
  },
  {
   "cell_type": "code",
   "execution_count": 120,
   "id": "1211fd35-dd22-4f33-abd8-14e138ddbbbe",
   "metadata": {},
   "outputs": [
    {
     "name": "stdout",
     "output_type": "stream",
     "text": [
      "LightGBM metrics: (1.0, 1.0, 1.0, 1.0)\n",
      "XGBoost metrics: (1.0, 1.0, 1.0, 1.0)\n",
      "LightGBM - Accuracy: 1.0000, Precision: 1.0000, Recall: 1.0000, F1-score: 1.0000\n",
      "XGBoost  - Accuracy: 1.0000, Precision: 1.0000, Recall: 1.0000, F1-score: 1.0000\n"
     ]
    }
   ],
   "source": [
    "#Model Evaluation\n",
    "from sklearn.metrics import accuracy_score, precision_score, recall_score, f1_score, confusion_matrix\n",
    "\n",
    "# Generate predictions (ensure it’s using class labels, not probabilities)\n",
    "y_pred_lgbm = model_lgbm.predict(X_test)\n",
    "y_pred_xgb = model_xgb.predict(X_test)\n",
    "\n",
    "# Now you can evaluate both models\n",
    "metrics_lgbm = evaluate_model(y_test, y_pred_lgbm)\n",
    "metrics_xgb = evaluate_model(y_test, y_pred_xgb)\n",
    "\n",
    "# Display results\n",
    "print(\"LightGBM metrics:\", metrics_lgbm)\n",
    "print(\"XGBoost metrics:\", metrics_xgb)\n",
    "\n",
    "\n",
    "# Function to calculate evaluation metrics\n",
    "def evaluate_model(y_true, y_pred):\n",
    "    accuracy = accuracy_score(y_true, y_pred)\n",
    "    precision = precision_score(y_true, y_pred)\n",
    "    recall = recall_score(y_true, y_pred)\n",
    "    f1 = f1_score(y_true, y_pred)\n",
    "    return accuracy, precision, recall, f1\n",
    "    \n",
    "# Evaluate both models\n",
    "metrics_lgbm = evaluate_model(y_test, y_pred_lgbm)\n",
    "metrics_xgb = evaluate_model(y_test, y_pred_xgb)\n",
    "\n",
    "# Display the results\n",
    "print(\"LightGBM - Accuracy: {:.4f}, Precision: {:.4f}, Recall: {:.4f}, F1-score: {:.4f}\".format(*metrics_lgbm))\n",
    "print(\"XGBoost  - Accuracy: {:.4f}, Precision: {:.4f}, Recall: {:.4f}, F1-score: {:.4f}\".format(*metrics_xgb))"
   ]
  },
  {
   "cell_type": "raw",
   "id": "0ea483e0-fe50-434e-9985-6e433b963cdf",
   "metadata": {},
   "source": [
    "\n"
   ]
  },
  {
   "cell_type": "code",
   "execution_count": 136,
   "id": "a2baa5c5-2c6e-4feb-a869-fe8fdee73df1",
   "metadata": {},
   "outputs": [
    {
     "name": "stdout",
     "output_type": "stream",
     "text": [
      "Best parameters for LightGBM: {'learning_rate': 0.01, 'max_depth': 5, 'n_estimators': 200}\n",
      "Best parameters for XGBoost: {'learning_rate': 0.05, 'max_depth': 3, 'n_estimators': 100}\n"
     ]
    }
   ],
   "source": [
    "from sklearn.model_selection import GridSearchCV\n",
    "from lightgbm import LGBMClassifier\n",
    "from xgboost import XGBClassifier\n",
    "\n",
    "# Hyperparameter tuning using GridSearchCV for LightGBM\n",
    "lgbm_param_grid = {\n",
    "    'learning_rate': [0.01, 0.1, 0.05],\n",
    "    'n_estimators': [100, 200, 300],\n",
    "    'max_depth': [3, 5, 7]\n",
    "}\n",
    "\n",
    "grid_lgbm = GridSearchCV(estimator=LGBMClassifier(random_state=42), param_grid=lgbm_param_grid, \n",
    "                         scoring='accuracy', cv=5)\n",
    "grid_lgbm.fit(X_test, y_test)\n",
    "\n",
    "# Hyperparameter tuning using GridSearchCV for XGBoost\n",
    "xgb_param_grid = {\n",
    "    'learning_rate': [0.01, 0.1, 0.05],\n",
    "    'n_estimators': [100, 200, 300],\n",
    "    'max_depth': [3, 5, 7]\n",
    "}\n",
    "\n",
    "grid_xgb = GridSearchCV(estimator=XGBClassifier(random_state=42), param_grid=xgb_param_grid, \n",
    "                        scoring='accuracy', cv=5)\n",
    "grid_xgb.fit(X_test, y_test)\n",
    "\n",
    "# Best parameters and accuracy from grid search\n",
    "print(\"Best parameters for LightGBM:\", grid_lgbm.best_params_)\n",
    "print(\"Best parameters for XGBoost:\", grid_xgb.best_params_)\n"
   ]
  },
  {
   "cell_type": "code",
   "execution_count": 133,
   "id": "0366661c-63fa-426c-83b6-c72303913942",
   "metadata": {},
   "outputs": [
    {
     "name": "stdout",
     "output_type": "stream",
     "text": [
      "Tuned LightGBM - Accuracy: 0.6239, Precision: 0.5000, Recall: 0.0047, F1-score: 0.0093\n",
      "Tuned XGBoost  - Accuracy: 0.6221, Precision: 0.4000, Recall: 0.0093, F1-score: 0.0183\n"
     ]
    }
   ],
   "source": [
    "#Comparitive Analysis\n",
    "# Get the best models from grid search\n",
    "best_lgbm = grid_lgbm.best_estimator_\n",
    "best_xgb = grid_xgb.best_estimator_\n",
    "\n",
    "# Predict on the test set with tuned models\n",
    "y_pred_best_lgbm = best_lgbm.predict(X_test)\n",
    "y_pred_best_xgb = best_xgb.predict(X_test)\n",
    "\n",
    "# Evaluate the tuned models\n",
    "metrics_best_lgbm = evaluate_model(y_test, y_pred_best_lgbm)\n",
    "metrics_best_xgb = evaluate_model(y_test, y_pred_best_xgb)\n",
    "\n",
    "# Display the comparison\n",
    "print(\"Tuned LightGBM - Accuracy: {:.4f}, Precision: {:.4f}, Recall: {:.4f}, F1-score: {:.4f}\".format(*metrics_best_lgbm))\n",
    "print(\"Tuned XGBoost  - Accuracy: {:.4f}, Precision: {:.4f}, Recall: {:.4f}, F1-score: {:.4f}\".format(*metrics_best_xgb))\n"
   ]
  },
  {
   "cell_type": "code",
   "execution_count": null,
   "id": "bee287ff-5d24-4028-9278-9cbad00f59d4",
   "metadata": {},
   "outputs": [],
   "source": []
  }
 ],
 "metadata": {
  "kernelspec": {
   "display_name": "Python 3 (ipykernel)",
   "language": "python",
   "name": "python3"
  },
  "language_info": {
   "codemirror_mode": {
    "name": "ipython",
    "version": 3
   },
   "file_extension": ".py",
   "mimetype": "text/x-python",
   "name": "python",
   "nbconvert_exporter": "python",
   "pygments_lexer": "ipython3",
   "version": "3.12.3"
  }
 },
 "nbformat": 4,
 "nbformat_minor": 5
}
