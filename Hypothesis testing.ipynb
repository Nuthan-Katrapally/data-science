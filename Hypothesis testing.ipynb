{
 "cells": [
  {
   "cell_type": "code",
   "execution_count": 4,
   "id": "a28f473e-3527-4faf-8e6d-8f5c05e3df90",
   "metadata": {},
   "outputs": [
    {
     "data": {
      "text/plain": [
       "-38.0"
      ]
     },
     "execution_count": 4,
     "metadata": {},
     "output_type": "execute_result"
    }
   ],
   "source": [
    "import pandas as pd\n",
    "import numpy as np\n",
    "import scipy\n",
    "from scipy import stats\n",
    "\n",
    "#sample t test,  one tail\n",
    "\n",
    "t =  (3050- 4000)/(125/np.sqrt(25))\n",
    "t\n",
    "\n"
   ]
  },
  {
   "cell_type": "code",
   "execution_count": 6,
   "id": "28e9ccd9-fb8d-4af4-a373-acad45ccbdc0",
   "metadata": {},
   "outputs": [
    {
     "name": "stdout",
     "output_type": "stream",
     "text": [
      "1.0\n"
     ]
    }
   ],
   "source": [
    "p = 1-stats.t.cdf(t, df=24)\n",
    "alpha = 0.05\n",
    "print(p)\n",
    "\n"
   ]
  },
  {
   "cell_type": "code",
   "execution_count": 8,
   "id": "ba42235f-ce92-4424-ad21-555de2020b0d",
   "metadata": {},
   "outputs": [
    {
     "name": "stdout",
     "output_type": "stream",
     "text": [
      "accept the null hypothesis, do not investigate\n"
     ]
    }
   ],
   "source": [
    "if p>alpha:\n",
    "    print(\"accept the null hypothesis, do not investigate\")\n",
    "else:\n",
    "    Print(\"reject the null hypothesis, proceed investigate\")"
   ]
  },
  {
   "cell_type": "code",
   "execution_count": null,
   "id": "ae224cc1-b88c-44cf-b06c-78cc40f92886",
   "metadata": {},
   "outputs": [],
   "source": []
  }
 ],
 "metadata": {
  "kernelspec": {
   "display_name": "Python 3 (ipykernel)",
   "language": "python",
   "name": "python3"
  },
  "language_info": {
   "codemirror_mode": {
    "name": "ipython",
    "version": 3
   },
   "file_extension": ".py",
   "mimetype": "text/x-python",
   "name": "python",
   "nbconvert_exporter": "python",
   "pygments_lexer": "ipython3",
   "version": "3.12.4"
  }
 },
 "nbformat": 4,
 "nbformat_minor": 5
}
