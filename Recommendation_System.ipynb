{
 "cells": [
  {
   "cell_type": "code",
   "execution_count": 4,
   "id": "a8742eb2-a7f5-4fc2-a3d8-77116cdfb2f1",
   "metadata": {},
   "outputs": [
    {
     "name": "stdout",
     "output_type": "stream",
     "text": [
      "   anime_id                              name  \\\n",
      "0     32281                    Kimi no Na wa.   \n",
      "1      5114  Fullmetal Alchemist: Brotherhood   \n",
      "2     28977                          Gintama°   \n",
      "3      9253                       Steins;Gate   \n",
      "4      9969                     Gintama&#039;   \n",
      "\n",
      "                                               genre   type episodes  rating  \\\n",
      "0               Drama, Romance, School, Supernatural  Movie        1    9.37   \n",
      "1  Action, Adventure, Drama, Fantasy, Magic, Mili...     TV       64    9.26   \n",
      "2  Action, Comedy, Historical, Parody, Samurai, S...     TV       51    9.25   \n",
      "3                                   Sci-Fi, Thriller     TV       24    9.17   \n",
      "4  Action, Comedy, Historical, Parody, Samurai, S...     TV       51    9.16   \n",
      "\n",
      "   members  \n",
      "0   200630  \n",
      "1   793665  \n",
      "2   114262  \n",
      "3   673572  \n",
      "4   151266  \n"
     ]
    }
   ],
   "source": [
    "#Data Processing\n",
    "import pandas as pd\n",
    "\n",
    "# Load the dataset\n",
    "anime_data = pd.read_csv('anime.csv')\n",
    "anime_data\n",
    "# Display the first few rows and the structure of the dataset\n",
    "print(anime_data.head())\n",
    "\n",
    "# Handle missing values\n",
    "anime_data.fillna({'genre': 'Unknown', 'average_rating': 0, 'num_users': 0}, inplace=True)\n",
    "\n",
    "\n"
   ]
  },
  {
   "cell_type": "code",
   "execution_count": 76,
   "id": "03d990c2-f01b-4afc-bcb4-ffcdda000a2e",
   "metadata": {},
   "outputs": [
    {
     "data": {
      "text/html": [
       "<div>\n",
       "<style scoped>\n",
       "    .dataframe tbody tr th:only-of-type {\n",
       "        vertical-align: middle;\n",
       "    }\n",
       "\n",
       "    .dataframe tbody tr th {\n",
       "        vertical-align: top;\n",
       "    }\n",
       "\n",
       "    .dataframe thead th {\n",
       "        text-align: right;\n",
       "    }\n",
       "</style>\n",
       "<table border=\"1\" class=\"dataframe\">\n",
       "  <thead>\n",
       "    <tr style=\"text-align: right;\">\n",
       "      <th></th>\n",
       "      <th>anime_id</th>\n",
       "      <th>rating</th>\n",
       "      <th>members</th>\n",
       "    </tr>\n",
       "  </thead>\n",
       "  <tbody>\n",
       "    <tr>\n",
       "      <th>count</th>\n",
       "      <td>12294.000000</td>\n",
       "      <td>12064.000000</td>\n",
       "      <td>1.229400e+04</td>\n",
       "    </tr>\n",
       "    <tr>\n",
       "      <th>mean</th>\n",
       "      <td>14058.221653</td>\n",
       "      <td>6.473902</td>\n",
       "      <td>1.807134e+04</td>\n",
       "    </tr>\n",
       "    <tr>\n",
       "      <th>std</th>\n",
       "      <td>11455.294701</td>\n",
       "      <td>1.026746</td>\n",
       "      <td>5.482068e+04</td>\n",
       "    </tr>\n",
       "    <tr>\n",
       "      <th>min</th>\n",
       "      <td>1.000000</td>\n",
       "      <td>1.670000</td>\n",
       "      <td>5.000000e+00</td>\n",
       "    </tr>\n",
       "    <tr>\n",
       "      <th>25%</th>\n",
       "      <td>3484.250000</td>\n",
       "      <td>5.880000</td>\n",
       "      <td>2.250000e+02</td>\n",
       "    </tr>\n",
       "    <tr>\n",
       "      <th>50%</th>\n",
       "      <td>10260.500000</td>\n",
       "      <td>6.570000</td>\n",
       "      <td>1.550000e+03</td>\n",
       "    </tr>\n",
       "    <tr>\n",
       "      <th>75%</th>\n",
       "      <td>24794.500000</td>\n",
       "      <td>7.180000</td>\n",
       "      <td>9.437000e+03</td>\n",
       "    </tr>\n",
       "    <tr>\n",
       "      <th>max</th>\n",
       "      <td>34527.000000</td>\n",
       "      <td>10.000000</td>\n",
       "      <td>1.013917e+06</td>\n",
       "    </tr>\n",
       "  </tbody>\n",
       "</table>\n",
       "</div>"
      ],
      "text/plain": [
       "           anime_id        rating       members\n",
       "count  12294.000000  12064.000000  1.229400e+04\n",
       "mean   14058.221653      6.473902  1.807134e+04\n",
       "std    11455.294701      1.026746  5.482068e+04\n",
       "min        1.000000      1.670000  5.000000e+00\n",
       "25%     3484.250000      5.880000  2.250000e+02\n",
       "50%    10260.500000      6.570000  1.550000e+03\n",
       "75%    24794.500000      7.180000  9.437000e+03\n",
       "max    34527.000000     10.000000  1.013917e+06"
      ]
     },
     "execution_count": 76,
     "metadata": {},
     "output_type": "execute_result"
    }
   ],
   "source": [
    "anime_data.describe()"
   ]
  },
  {
   "cell_type": "code",
   "execution_count": 80,
   "id": "55590a3f-0c69-4639-8f8c-2bf02b229147",
   "metadata": {},
   "outputs": [
    {
     "name": "stdout",
     "output_type": "stream",
     "text": [
      "Index(['anime_id', 'name', 'genre', 'type', 'episodes', 'rating', 'members'], dtype='object')\n"
     ]
    }
   ],
   "source": [
    "# Print the columns of the DataFrame to check their names\n",
    "print(anime_data.columns)\n"
   ]
  },
  {
   "cell_type": "code",
   "execution_count": 82,
   "id": "7890e468-6827-404f-8c54-ffb8bb52097c",
   "metadata": {},
   "outputs": [
    {
     "name": "stdout",
     "output_type": "stream",
     "text": [
      "0                 Drama, Romance, School, Supernatural\n",
      "1    Action, Adventure, Drama, Fantasy, Magic, Mili...\n",
      "2    Action, Comedy, Historical, Parody, Samurai, S...\n",
      "3                                     Sci-Fi, Thriller\n",
      "4    Action, Comedy, Historical, Parody, Samurai, S...\n",
      "Name: genre, dtype: object\n",
      "object\n"
     ]
    }
   ],
   "source": [
    "# Check the first few rows and the data type of the 'genre' column\n",
    "print(anime_data['genre'].head())\n",
    "print(anime_data['genre'].dtype)\n"
   ]
  },
  {
   "cell_type": "code",
   "execution_count": 84,
   "id": "98f71616-3842-49ec-87a3-50aab66269a0",
   "metadata": {},
   "outputs": [
    {
     "name": "stdout",
     "output_type": "stream",
     "text": [
      "object\n"
     ]
    }
   ],
   "source": [
    "from sklearn.preprocessing import MultiLabelBinarizer\n",
    "\n",
    "# Check the data type of the 'genre' column\n",
    "print(anime_data['genre'].dtype)  # This should show you it's a list\n",
    "\n",
    "# Use MultiLabelBinarizer to convert genres to numerical format\n",
    "mlb = MultiLabelBinarizer()\n",
    "genre_matrix = mlb.fit_transform(anime_data['genre'])\n",
    "genre_df = pd.DataFrame(genre_matrix, columns=mlb.classes_)\n",
    "\n",
    "# Combine genre features with the original DataFrame\n",
    "anime_data = pd.concat([anime_data, genre_df], axis=1)\n",
    "\n",
    "# Drop the original 'genre' column if you no longer need it\n",
    "anime_data = anime_data.drop(columns=['genre'])\n"
   ]
  },
  {
   "cell_type": "code",
   "execution_count": 6,
   "id": "71887ea3-eff2-4ec0-9ab7-f2aca4a9068b",
   "metadata": {},
   "outputs": [],
   "source": [
    "#Feature Extarction\n",
    "# Assume anime_data is your processed DataFrame\n",
    "# Select the columns you want to use for the recommendation system\n",
    "features = anime_data.drop(columns=['anime_id', 'name', 'type', 'episodes'])  # Adjust based on your DataFrame\n",
    "\n",
    "# Normalize numerical features if not done yet\n",
    "from sklearn.preprocessing import StandardScaler\n",
    "\n",
    "scaler = StandardScaler()\n",
    "numerical_columns = ['rating', 'members']  # Adjust based on your DataFrame\n",
    "\n",
    "# Normalize only if those columns exist\n",
    "if all(col in features.columns for col in numerical_columns):\n",
    "    features[numerical_columns] = scaler.fit_transform(features[numerical_columns])\n",
    "else:\n",
    "    print(\"Some numerical columns are missing:\", [col for col in numerical_columns if col not in features.columns])\n"
   ]
  },
  {
   "cell_type": "code",
   "execution_count": 94,
   "id": "aeb37e37-909d-40fe-b497-15fd324761d4",
   "metadata": {},
   "outputs": [
    {
     "name": "stdout",
     "output_type": "stream",
     "text": [
      "rating     230\n",
      "members      0\n",
      "             0\n",
      ",            0\n",
      "-            0\n",
      "A            0\n",
      "C            0\n",
      "D            0\n",
      "E            0\n",
      "F            0\n",
      "G            0\n",
      "H            0\n",
      "J            0\n",
      "K            0\n",
      "L            0\n",
      "M            0\n",
      "P            0\n",
      "R            0\n",
      "S            0\n",
      "T            0\n",
      "U            0\n",
      "V            0\n",
      "Y            0\n",
      "a            0\n",
      "c            0\n",
      "d            0\n",
      "e            0\n",
      "f            0\n",
      "g            0\n",
      "h            0\n",
      "i            0\n",
      "j            0\n",
      "k            0\n",
      "l            0\n",
      "m            0\n",
      "n            0\n",
      "o            0\n",
      "p            0\n",
      "r            0\n",
      "s            0\n",
      "t            0\n",
      "u            0\n",
      "v            0\n",
      "w            0\n",
      "y            0\n",
      "dtype: int64\n"
     ]
    }
   ],
   "source": [
    "# Check for NaN values in the features DataFrame\n",
    "print(features.isnull().sum())\n"
   ]
  },
  {
   "cell_type": "code",
   "execution_count": 98,
   "id": "01e09ecc-36a4-4480-b4c6-96da5d8d7f90",
   "metadata": {},
   "outputs": [],
   "source": [
    "# Drop rows with any NaN values\n",
    "features = features.dropna()\n"
   ]
  },
  {
   "cell_type": "code",
   "execution_count": 102,
   "id": "3cbc3dc5-78e5-421e-a05f-b47ecc2fd9c9",
   "metadata": {},
   "outputs": [
    {
     "data": {
      "text/plain": [
       "array([[ 1.        ,  0.76371585,  0.78021971, ..., -0.08353616,\n",
       "        -0.06920652,  0.0078349 ],\n",
       "       [ 0.76371585,  1.        ,  0.58457252, ..., -0.08603419,\n",
       "        -0.0817536 , -0.05697744],\n",
       "       [ 0.78021971,  0.58457252,  1.        , ...,  0.07192618,\n",
       "         0.08877003,  0.17658951],\n",
       "       ...,\n",
       "       [-0.08353616, -0.08603419,  0.07192618, ...,  1.        ,\n",
       "         0.99958576,  0.98370625],\n",
       "       [-0.06920652, -0.0817536 ,  0.08877003, ...,  0.99958576,\n",
       "         1.        ,  0.98847286],\n",
       "       [ 0.0078349 , -0.05697744,  0.17658951, ...,  0.98370625,\n",
       "         0.98847286,  1.        ]])"
      ]
     },
     "execution_count": 102,
     "metadata": {},
     "output_type": "execute_result"
    }
   ],
   "source": [
    "from sklearn.metrics.pairwise import cosine_similarity\n",
    "\n",
    "# Compute cosine similarity matrix\n",
    "cosine_sim = cosine_similarity(features)\n",
    "cosine_sim\n"
   ]
  },
  {
   "cell_type": "code",
   "execution_count": 108,
   "id": "92e8d4bf-36da-49e9-a6f7-64f186a0d907",
   "metadata": {},
   "outputs": [
    {
     "name": "stdout",
     "output_type": "stream",
     "text": [
      "615    Naruto: Shippuuden\n",
      "582                Bleach\n",
      "159          Angel Beats!\n",
      "281          Kill la Kill\n",
      "445      Mirai Nikki (TV)\n",
      "Name: name, dtype: object\n"
     ]
    }
   ],
   "source": [
    "def recommend_anime(name, num_recommendations=5):\n",
    "    # Get the index of the anime that matches the title\n",
    "    idx = anime_data[anime_data['name'] == name].index[0]\n",
    "    \n",
    "    # Get the pairwise similarity scores for all anime with the given anime\n",
    "    sim_scores = list(enumerate(cosine_sim[idx]))\n",
    "    \n",
    "    # Sort the anime based on similarity scores\n",
    "    sim_scores = sorted(sim_scores, key=lambda x: x[1], reverse=True)\n",
    "    \n",
    "    # Get the scores of the most similar anime\n",
    "    sim_scores = sim_scores[1:num_recommendations + 1]\n",
    "    \n",
    "    # Get the anime indices\n",
    "    anime_indices = [i[0] for i in sim_scores]\n",
    "    \n",
    "    # Return the top most similar anime\n",
    "    return anime_data['name'].iloc[anime_indices]\n",
    "\n",
    "# Example usage\n",
    "print(recommend_anime('Naruto', 5))"
   ]
  },
  {
   "cell_type": "code",
   "execution_count": 139,
   "id": "51d29f87-1799-4351-8734-1bdba772e270",
   "metadata": {},
   "outputs": [
    {
     "name": "stdout",
     "output_type": "stream",
     "text": [
      "Anime 'Attack on Titan' not found in the dataset.\n",
      "Average Precision: 0.1\n",
      "Average Recall: 0.16666666666666666\n",
      "Average F1 Score: 0.125\n"
     ]
    }
   ],
   "source": [
    "#Evaluation\n",
    "\n",
    "from sklearn.metrics import precision_score, recall_score, f1_score\n",
    "\n",
    "def evaluate_recommendations(ground_truth, num_recommendations=5):\n",
    "    precision_list = []\n",
    "    recall_list = []\n",
    "    f1_list = []\n",
    "\n",
    "    for name, true_anime in ground_truth.items():\n",
    "        recommendations = recommend_anime(name, num_recommendations)\n",
    "        \n",
    "        # Convert recommendations and true_anime to sets for easier calculations\n",
    "        recommended_set = set(recommendations)\n",
    "        true_set = set(true_anime)\n",
    "\n",
    "        # Calculate true positives, false positives, and false negatives\n",
    "        true_positive = len(recommended_set.intersection(true_set))\n",
    "        false_positive = len(recommended_set) - true_positive\n",
    "        false_negative = len(true_set) - true_positive\n",
    "\n",
    "        # Calculate precision, recall, and F1 score\n",
    "        precision = true_positive / (true_positive + false_positive) if (true_positive + false_positive) > 0 else 0\n",
    "        recall = true_positive / (true_positive + false_negative) if (true_positive + false_negative) > 0 else 0\n",
    "        f1 = (2 * precision * recall / (precision + recall)) if (precision + recall) > 0 else 0\n",
    "\n",
    "        precision_list.append(precision)\n",
    "        recall_list.append(recall)\n",
    "        f1_list.append(f1)\n",
    "\n",
    "    # Average scores\n",
    "    avg_precision = sum(precision_list) / len(precision_list)\n",
    "    avg_recall = sum(recall_list) / len(recall_list)\n",
    "    avg_f1 = sum(f1_list) / len(f1_list)\n",
    "\n",
    "    print(f'Average Precision: {avg_precision}')\n",
    "    print(f'Average Recall: {avg_recall}')\n",
    "    print(f'Average F1 Score: {avg_f1}')\n",
    "    \n",
    "evaluate_recommendations(ground_truth, num_recommendations=5)\n"
   ]
  },
  {
   "cell_type": "code",
   "execution_count": null,
   "id": "c36578a7-a999-4080-9e75-c06bf1bf68b7",
   "metadata": {},
   "outputs": [],
   "source": []
  }
 ],
 "metadata": {
  "kernelspec": {
   "display_name": "Python 3 (ipykernel)",
   "language": "python",
   "name": "python3"
  },
  "language_info": {
   "codemirror_mode": {
    "name": "ipython",
    "version": 3
   },
   "file_extension": ".py",
   "mimetype": "text/x-python",
   "name": "python",
   "nbconvert_exporter": "python",
   "pygments_lexer": "ipython3",
   "version": "3.12.4"
  }
 },
 "nbformat": 4,
 "nbformat_minor": 5
}
